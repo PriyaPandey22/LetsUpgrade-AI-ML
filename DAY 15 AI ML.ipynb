{
 "cells": [
  {
   "cell_type": "markdown",
   "metadata": {},
   "source": [
    "# 1. Create a 3x3x3 array with random values"
   ]
  },
  {
   "cell_type": "code",
   "execution_count": 16,
   "metadata": {},
   "outputs": [
    {
     "data": {
      "text/plain": [
       "array([[[0.11464097, 0.01031546, 0.5796065 ],\n",
       "        [0.7578803 , 0.0869631 , 0.40751146],\n",
       "        [0.63918212, 0.98287814, 0.16525665]],\n",
       "\n",
       "       [[0.45336049, 0.06977065, 0.66801388],\n",
       "        [0.7778922 , 0.60220728, 0.93365477],\n",
       "        [0.74020423, 0.68272787, 0.05184567]],\n",
       "\n",
       "       [[0.79163066, 0.53705708, 0.47549503],\n",
       "        [0.12321621, 0.66942683, 0.65940108],\n",
       "        [0.15196946, 0.09756714, 0.65634273]]])"
      ]
     },
     "execution_count": 16,
     "metadata": {},
     "output_type": "execute_result"
    }
   ],
   "source": [
    "import numpy as np\n",
    "arr = np.random.random((3,3,3))\n",
    "arr"
   ]
  },
  {
   "cell_type": "markdown",
   "metadata": {},
   "source": [
    "# 2.Create a 5x5 matrix with values 1,2,3,4 just below the diagonal"
   ]
  },
  {
   "cell_type": "code",
   "execution_count": 20,
   "metadata": {},
   "outputs": [
    {
     "data": {
      "text/plain": [
       "array([[0, 0, 0, 0, 0],\n",
       "       [1, 0, 0, 0, 0],\n",
       "       [0, 2, 0, 0, 0],\n",
       "       [0, 0, 3, 0, 0],\n",
       "       [0, 0, 0, 4, 0]])"
      ]
     },
     "execution_count": 20,
     "metadata": {},
     "output_type": "execute_result"
    }
   ],
   "source": [
    "arr = np.diag([1,2,3,4],-1)\n",
    "arr"
   ]
  },
  {
   "cell_type": "markdown",
   "metadata": {},
   "source": [
    "# 3.Create a 8x8 matrix and fill it with a checkerboard pattern"
   ]
  },
  {
   "cell_type": "code",
   "execution_count": 17,
   "metadata": {},
   "outputs": [
    {
     "data": {
      "text/plain": [
       "array([[0, 1, 0, 1, 0, 1, 0, 1],\n",
       "       [1, 0, 1, 0, 1, 0, 1, 0],\n",
       "       [0, 1, 0, 1, 0, 1, 0, 1],\n",
       "       [1, 0, 1, 0, 1, 0, 1, 0],\n",
       "       [0, 1, 0, 1, 0, 1, 0, 1],\n",
       "       [1, 0, 1, 0, 1, 0, 1, 0],\n",
       "       [0, 1, 0, 1, 0, 1, 0, 1],\n",
       "       [1, 0, 1, 0, 1, 0, 1, 0]])"
      ]
     },
     "execution_count": 17,
     "metadata": {},
     "output_type": "execute_result"
    }
   ],
   "source": [
    "arr = np.zeros((8,8),dtype=int)\n",
    "arr[::2,1::2]=1\n",
    "arr[1::2,::2]=1\n",
    "arr"
   ]
  },
  {
   "cell_type": "markdown",
   "metadata": {},
   "source": [
    "# 4. Normalize a 5x5 random matrix"
   ]
  },
  {
   "cell_type": "code",
   "execution_count": 21,
   "metadata": {},
   "outputs": [
    {
     "name": "stdout",
     "output_type": "stream",
     "text": [
      "Original Array:\n",
      "[[0.19523112 0.53168807 0.83241368 0.69038571 0.07734392]\n",
      " [0.17303259 0.25229655 0.11030952 0.74664334 0.39489523]\n",
      " [0.58245043 0.94803884 0.20837288 0.87222229 0.32248118]\n",
      " [0.24262407 0.42508803 0.52716441 0.40643307 0.4811405 ]\n",
      " [0.35593603 0.50992336 0.18526463 0.13346483 0.31417086]]\n",
      "After normalization:\n",
      "[[0.13539439 0.52181785 0.86720359 0.70408335 0.        ]\n",
      " [0.10989919 0.20093448 0.03786126 0.76869569 0.3647102 ]\n",
      " [0.58011882 1.         0.15048781 0.9129241  0.28154208]\n",
      " [0.18982557 0.39938686 0.51662239 0.37796149 0.46376356]\n",
      " [0.31996524 0.49682091 0.12394779 0.06445531 0.27199762]]\n"
     ]
    }
   ],
   "source": [
    "arr= np.random.random((5,5))\n",
    "print(\"Original Array:\")\n",
    "print(arr)\n",
    "arrmax, arrmin = arr.max(), arr.min()\n",
    "norm_arr = (arr - arrmin)/(arrmax - arrmin)\n",
    "print(\"After normalization:\")\n",
    "print(norm_arr)"
   ]
  },
  {
   "cell_type": "markdown",
   "metadata": {},
   "source": [
    "# 5. How to find common values between two arrays?"
   ]
  },
  {
   "cell_type": "code",
   "execution_count": 19,
   "metadata": {},
   "outputs": [
    {
     "name": "stdout",
     "output_type": "stream",
     "text": [
      "Array 1 :  [4, 6, 2, 3, 8]\n",
      "Array 2 :  [1, 5, 4, 7, 6, 8]\n",
      "Common Values between two arrays :  [4 6 8]\n"
     ]
    }
   ],
   "source": [
    "arr1=[4,6,2,3,8]\n",
    "print(\"Array 1 : \", arr1)\n",
    "arr2=[1,5,4,7,6,8]\n",
    "print(\"Array 2 : \", arr2)\n",
    "print(\"Common Values between two arrays : \", np.intersect1d(arr1,arr2))"
   ]
  },
  {
   "cell_type": "markdown",
   "metadata": {},
   "source": [
    "# 6.How to get the dates of yesterday, today and tomorrow?"
   ]
  },
  {
   "cell_type": "code",
   "execution_count": 6,
   "metadata": {},
   "outputs": [
    {
     "name": "stdout",
     "output_type": "stream",
     "text": [
      "Yesterday :  2020-07-30\n",
      "Today :  2020-07-31\n",
      "Tommorow :  2020-08-01\n"
     ]
    }
   ],
   "source": [
    "today = np.datetime64('today')\n",
    "yesterday=np.datetime64(today)-np.timedelta64(1)\n",
    "print(\"Yesterday : \",yesterday)\n",
    "print(\"Today : \",today)\n",
    "tommorow = np.datetime64(today)+np.timedelta64(1)\n",
    "print(\"Tommorow : \",tommorow)"
   ]
  },
  {
   "cell_type": "markdown",
   "metadata": {},
   "source": [
    "# 7. Consider two random array A and B, check if they are equal"
   ]
  },
  {
   "cell_type": "code",
   "execution_count": 7,
   "metadata": {},
   "outputs": [
    {
     "name": "stdout",
     "output_type": "stream",
     "text": [
      "Array 1 :  [1 4 1 2 2]\n",
      "Array 2 :  [3 4 3 3 3]\n"
     ]
    },
    {
     "data": {
      "text/plain": [
       "False"
      ]
     },
     "execution_count": 7,
     "metadata": {},
     "output_type": "execute_result"
    }
   ],
   "source": [
    "arrA=np.random.randint(0,5,5)\n",
    "print(\"Array 1 : \", arrA)\n",
    "arrB=np.random.randint(0,5,5)\n",
    "print(\"Array 2 : \", arrB)\n",
    "result = np.array_equal(arrA,arrB)\n",
    "result"
   ]
  },
  {
   "cell_type": "markdown",
   "metadata": {},
   "source": [
    "# 8.Create random vector of size 10 and replace the maximum value by 0"
   ]
  },
  {
   "cell_type": "code",
   "execution_count": 18,
   "metadata": {},
   "outputs": [
    {
     "name": "stdout",
     "output_type": "stream",
     "text": [
      "[0.46333586 0.61634346 0.66701817 0.89576145 0.8921684  0.07575509\n",
      " 0.03316856 0.48967148 0.62999656 0.1881955 ]\n",
      "[0.46333586 0.61634346 0.66701817 0.         0.8921684  0.07575509\n",
      " 0.03316856 0.48967148 0.62999656 0.1881955 ]\n"
     ]
    }
   ],
   "source": [
    "arr=np.random.random(10)\n",
    "print(arr)\n",
    "arr[arr.argmax()]=0\n",
    "print(arr)"
   ]
  },
  {
   "cell_type": "markdown",
   "metadata": {},
   "source": [
    "# 9. How to print all the values of an array?"
   ]
  },
  {
   "cell_type": "code",
   "execution_count": 9,
   "metadata": {},
   "outputs": [
    {
     "name": "stdout",
     "output_type": "stream",
     "text": [
      "[ -998670336       32760 -1017990544       32760           0           0\n",
      "           0           0          14           1]\n"
     ]
    }
   ],
   "source": [
    "arr=np.empty((10),dtype=int)\n",
    "print(arr)"
   ]
  },
  {
   "cell_type": "markdown",
   "metadata": {},
   "source": [
    "# 10.Subtract the mean of each row of a matrix"
   ]
  },
  {
   "cell_type": "code",
   "execution_count": 10,
   "metadata": {},
   "outputs": [
    {
     "name": "stdout",
     "output_type": "stream",
     "text": [
      "Original matrix:\n",
      " [[0.79291452 0.33207059 0.61137689 0.91866609]\n",
      " [0.0432153  0.33830915 0.08127918 0.44369191]]\n",
      "\n",
      "Subtract the mean of each row of the original matrix:\n",
      " [[ 0.1291575  -0.33168644 -0.05238013  0.25490907]\n",
      " [-0.18340859  0.11168527 -0.1453447   0.21706802]]\n"
     ]
    }
   ],
   "source": [
    "arr = np.random.rand(2, 4)\n",
    "print(\"Original matrix:\\n\",arr)\n",
    "res_arr = arr - arr.mean(axis=1, keepdims=True)\n",
    "print(\"\\nSubtract the mean of each row of the original matrix:\\n\",res_arr)"
   ]
  },
  {
   "cell_type": "markdown",
   "metadata": {},
   "source": [
    "# 11.Consider a given vector, how to add 1 to each element indexed by a second vector (be careful with repeated indices)?"
   ]
  },
  {
   "cell_type": "code",
   "execution_count": 11,
   "metadata": {},
   "outputs": [
    {
     "name": "stdout",
     "output_type": "stream",
     "text": [
      "[2 9 4 9 8]\n",
      "[ 2 10  5 10  8]\n"
     ]
    }
   ],
   "source": [
    "import numpy as np\n",
    "arr = np.random.randint(0, 10, 5)\n",
    "print(arr)\n",
    "arr1 = [1,2,3]\n",
    "arr[arr1] +=1\n",
    "print(arr)"
   ]
  },
  {
   "cell_type": "markdown",
   "metadata": {},
   "source": [
    "# 12.How to get the diagonal of a dot product?"
   ]
  },
  {
   "cell_type": "code",
   "execution_count": 12,
   "metadata": {},
   "outputs": [
    {
     "name": "stdout",
     "output_type": "stream",
     "text": [
      "First Array : \n",
      " [[9 4 4]\n",
      " [2 7 0]\n",
      " [0 3 5]]\n",
      "Second Array : \n",
      " [[7 4 6]\n",
      " [2 4 9]\n",
      " [1 3 4]]\n",
      "diagonal of a dot product : \n",
      " [75 36 47]\n"
     ]
    }
   ],
   "source": [
    "first_arr = np.random.randint(0,10,(3,3))\n",
    "print(\"First Array : \\n\",first_arr)\n",
    "second_arr= np.random.randint(0,10,(3,3))\n",
    "print(\"Second Array : \\n\",second_arr)\n",
    "dot_product = np.dot(first_arr, second_arr)\n",
    "Diag_result=np.diag(dot_product)\n",
    "print(\"diagonal of a dot product : \\n\",Diag_result)"
   ]
  },
  {
   "cell_type": "markdown",
   "metadata": {},
   "source": [
    "# 13.How to find the most frequent value in an array?"
   ]
  },
  {
   "cell_type": "code",
   "execution_count": 13,
   "metadata": {},
   "outputs": [
    {
     "name": "stdout",
     "output_type": "stream",
     "text": [
      "Original array:\n",
      " [0 9 1 7 4 2 0 6 6 0 9 9 1 5 9 2 1 3 0 7 7 8 9 8 9 1 5 2 9 7 0 9 4 3 8 6 6\n",
      " 4 0 7]\n",
      "Most frequent value in the above array :  9\n"
     ]
    }
   ],
   "source": [
    "arr = np.random.randint(0, 10, 40)\n",
    "print(\"Original array:\\n\",arr)\n",
    "res = np.bincount(arr).argmax()\n",
    "print(\"Most frequent value in the above array : \",res)"
   ]
  },
  {
   "cell_type": "markdown",
   "metadata": {},
   "source": [
    "# 14.How to get the n largest values of an array"
   ]
  },
  {
   "cell_type": "code",
   "execution_count": 14,
   "metadata": {},
   "outputs": [
    {
     "name": "stdout",
     "output_type": "stream",
     "text": [
      "Original array: [9 1 4 2 6 5 3 0 7 8]\n",
      "Largest n values of an array :  [7 8 9]\n"
     ]
    }
   ],
   "source": [
    "arr = np.arange(10)\n",
    "np.random.shuffle(arr)\n",
    "print(\"Original array:\",arr)\n",
    "n = 3\n",
    "res = arr[np.argsort(arr)[-n:]]\n",
    "print(\"Largest n values of an array : \",res)"
   ]
  },
  {
   "cell_type": "markdown",
   "metadata": {},
   "source": [
    "# 15.How to create a record array from a regular array?"
   ]
  },
  {
   "cell_type": "code",
   "execution_count": 15,
   "metadata": {},
   "outputs": [
    {
     "data": {
      "text/plain": [
       "rec.array([(8, 'Black', 10), (3, 'Blue', 20), (6, 'White', 30),\n",
       "           (2, 'Red', 40)],\n",
       "          dtype=[('a', '<i4'), ('b', '<U5'), ('c', '<i4')])"
      ]
     },
     "execution_count": 15,
     "metadata": {},
     "output_type": "execute_result"
    }
   ],
   "source": [
    "arr1=np.array([8,3,6,2])\n",
    "arr2=np.array(['Black','Blue','White','Red'])\n",
    "arr3=np.array([10,20,30,40])\n",
    "result= np.core.records.fromarrays([arr1, arr2, arr3],names='a,b,c')\n",
    "result"
   ]
  },
  {
   "cell_type": "code",
   "execution_count": null,
   "metadata": {},
   "outputs": [],
   "source": []
  }
 ],
 "metadata": {
  "kernelspec": {
   "display_name": "Python 3",
   "language": "python",
   "name": "python3"
  },
  "language_info": {
   "codemirror_mode": {
    "name": "ipython",
    "version": 3
   },
   "file_extension": ".py",
   "mimetype": "text/x-python",
   "name": "python",
   "nbconvert_exporter": "python",
   "pygments_lexer": "ipython3",
   "version": "3.7.6"
  }
 },
 "nbformat": 4,
 "nbformat_minor": 4
}
