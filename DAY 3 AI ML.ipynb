{
 "cells": [
  {
   "cell_type": "markdown",
   "metadata": {},
   "source": [
    "# Question 1 :\n",
    "Write a program to subtract two complex numbers in Python."
   ]
  },
  {
   "cell_type": "code",
   "execution_count": 1,
   "metadata": {},
   "outputs": [
    {
     "name": "stdout",
     "output_type": "stream",
     "text": [
      "Subtraction is : (1+1j)\n"
     ]
    }
   ],
   "source": [
    "z1= complex(2,3)\n",
    "z2= complex(1,2)\n",
    "ans= z1-z2\n",
    "print('Subtraction is :',ans)"
   ]
  },
  {
   "cell_type": "markdown",
   "metadata": {},
   "source": [
    "# Question 2 :\n",
    "Write a program to find the fourth root of a number"
   ]
  },
  {
   "cell_type": "code",
   "execution_count": 3,
   "metadata": {},
   "outputs": [
    {
     "name": "stdout",
     "output_type": "stream",
     "text": [
      "fourth root of 16 is: 2.0\n"
     ]
    }
   ],
   "source": [
    "x=16\n",
    "ans= x**(1/float(4))\n",
    "print(\"fourth root of \"+str(x)+\" is:\", ans)"
   ]
  },
  {
   "cell_type": "markdown",
   "metadata": {},
   "source": [
    "# Question 3:\n",
    "Write a program to swap two numbers in Python with the help of a temporary variable."
   ]
  },
  {
   "cell_type": "code",
   "execution_count": 5,
   "metadata": {},
   "outputs": [
    {
     "name": "stdout",
     "output_type": "stream",
     "text": [
      "enter 1st number:\n",
      "3\n",
      "enter 2nd number:\n",
      "4\n",
      "value of a before swapping: 3\n",
      "value of b before swapping: 4\n",
      "value of a after swapping: 4\n",
      "value of b after swapping: 3\n"
     ]
    }
   ],
   "source": [
    "a=input('enter 1st number:\\n')\n",
    "b=input('enter 2nd number:\\n')\n",
    "print('value of a before swapping:', a)\n",
    "print('value of b before swapping:', b)\n",
    "temp=a\n",
    "a=b\n",
    "b=temp\n",
    "print('value of a after swapping:', a)\n",
    "print('value of b after swapping:', b)"
   ]
  },
  {
   "cell_type": "markdown",
   "metadata": {},
   "source": [
    "# Question 4:\n",
    "Write a program to swap two numbers in Python without using a temporary variable"
   ]
  },
  {
   "cell_type": "code",
   "execution_count": 6,
   "metadata": {},
   "outputs": [
    {
     "name": "stdout",
     "output_type": "stream",
     "text": [
      "enter 1st number:\n",
      "5\n",
      "enter 2nd number:\n",
      "9\n",
      "value of a before swapping: 5\n",
      "value of b before swapping: 9\n",
      "value of a after swapping: 9\n",
      "value of b after swapping: 5\n"
     ]
    }
   ],
   "source": [
    "a=input('enter 1st number:\\n')\n",
    "b=input('enter 2nd number:\\n')\n",
    "print('value of a before swapping:', a)\n",
    "print('value of b before swapping:', b)\n",
    "a,b=b,a\n",
    "print('value of a after swapping:', a)\n",
    "print('value of b after swapping:', b)"
   ]
  },
  {
   "cell_type": "markdown",
   "metadata": {},
   "source": [
    "# Question 5:\n",
    "Write a program to convert fahrenheit to kelvin and celsius both."
   ]
  },
  {
   "cell_type": "code",
   "execution_count": 6,
   "metadata": {},
   "outputs": [
    {
     "name": "stdout",
     "output_type": "stream",
     "text": [
      "enter temperature in fahrenheit:\n",
      "56\n",
      "temperature in celsius:  13.333333333333334\n",
      "temperature in kelvin:  250.83333333333334\n"
     ]
    }
   ],
   "source": [
    "temperature=float(input(\"enter temperature in fahrenheit:\\n\"))\n",
    "celsius= (temperature-32)*5/9\n",
    "kelvin= 237.5+((temperature-32.0)*(5.0/9))\n",
    "print(\"temperature in celsius: \", celsius)\n",
    "print(\"temperature in kelvin: \", kelvin)"
   ]
  },
  {
   "cell_type": "markdown",
   "metadata": {},
   "source": [
    "# Question 6:\n",
    "Write a program to demonstrate all the available data types in Python. Hint: Use type() function."
   ]
  },
  {
   "cell_type": "code",
   "execution_count": 1,
   "metadata": {},
   "outputs": [
    {
     "name": "stdout",
     "output_type": "stream",
     "text": [
      "5 is of type <class 'int'>\n",
      "5.89 is of type <class 'float'>\n",
      "(5+2j) is of type <class 'complex'>\n"
     ]
    }
   ],
   "source": [
    "a=5\n",
    "print(a,\"is of type\" , type(a))\n",
    "a=5.89\n",
    "print(a,\"is of type\" , type(a))\n",
    "a=5+2j\n",
    "print(a,\"is of type\" , type(a))"
   ]
  },
  {
   "cell_type": "markdown",
   "metadata": {},
   "source": [
    "# Question 7:\n",
    "Create a Markdown cell in jupyter and list the steps discussed in the session by Dr. Darshan\n",
    "Ingle sir to create Github profile and upload Githubs Assignment link."
   ]
  },
  {
   "cell_type": "markdown",
   "metadata": {},
   "source": [
    "1. Go to github.com\n",
    "2. click on sign up, fill details and create profile.\n",
    "3. click on new to create new repository.\n",
    "4. keep repository name as \"/LetsupgradeAI-ML \"\n",
    "5. put description(optional)\n",
    "6. keep the repository public\n",
    "7. click on create repository button.\n",
    "\n",
    "To upload assignments inside LetsupgradeAI-ML folder\n",
    "8. click on upload button.\n",
    "9. Drag and drop your assignment folder.\n",
    "10. click on commit changes"
   ]
  }
 ],
 "metadata": {
  "kernelspec": {
   "display_name": "Python 3",
   "language": "python",
   "name": "python3"
  },
  "language_info": {
   "codemirror_mode": {
    "name": "ipython",
    "version": 3
   },
   "file_extension": ".py",
   "mimetype": "text/x-python",
   "name": "python",
   "nbconvert_exporter": "python",
   "pygments_lexer": "ipython3",
   "version": "3.7.6"
  }
 },
 "nbformat": 4,
 "nbformat_minor": 4
}
