{
 "cells": [
  {
   "cell_type": "markdown",
   "metadata": {},
   "source": [
    "# Question 1 :\n",
    "Research on whether addition, subtraction, multiplication, division, floor division and modulo operations be performed on complex numbers. Based on your study, implement a Python program to demonstrate these operations."
   ]
  },
  {
   "cell_type": "code",
   "execution_count": 1,
   "metadata": {},
   "outputs": [
    {
     "name": "stdout",
     "output_type": "stream",
     "text": [
      "Addition is : (3+5j)\n",
      "Subtraction is : (1+1j)\n",
      "multiplication is : (-4+7j)\n",
      "division is : (1.6-0.2j)\n",
      "floor division is not posible for complex numbers\n",
      "modulo division is not posible for complex numbers\n"
     ]
    }
   ],
   "source": [
    "z1= complex(2,3)\n",
    "z2= complex(1,2)\n",
    "addition=z1+z2\n",
    "subtraction= z1-z2\n",
    "multiplication=z1*z2\n",
    "division=z1/z2\n",
    "print('Addition is :',addition)\n",
    "print('Subtraction is :',subtraction)\n",
    "print('multiplication is :',multiplication)\n",
    "print('division is :',division)\n",
    "print('floor division is not posible for complex numbers')\n",
    "print('modulo division is not posible for complex numbers')"
   ]
  },
  {
   "cell_type": "markdown",
   "metadata": {},
   "source": [
    "# Question 2 :\n",
    "Research on range() functions and its parameters. Create a markdown cell and write in your own words (no copy-paste from google please) what you understand about it. Implement a small program of your choice on the same"
   ]
  },
  {
   "cell_type": "markdown",
   "metadata": {},
   "source": [
    "In simple terms, range() allows user to generate a series of numbers within a given range. Depending on how many arguments user is passing to the function, user can decide where that series of numbers will begin and end as well as how big the difference will be between one number and the next. \n",
    "There are three ways you can call range() : \n",
    "range(stop) takes one argument. \n",
    "range(start, stop) takes two arguments. \n",
    "range(start, stop, step) takes three arguments"
   ]
  },
  {
   "cell_type": "code",
   "execution_count": 3,
   "metadata": {},
   "outputs": [
    {
     "name": "stdout",
     "output_type": "stream",
     "text": [
      "Enter number to generate series:4\n",
      "0\n",
      "1\n",
      "2\n",
      "3\n",
      "Enter start of series:3\n",
      "Enter end of series:13\n",
      "3\n",
      "4\n",
      "5\n",
      "6\n",
      "7\n",
      "8\n",
      "9\n",
      "10\n",
      "11\n",
      "12\n",
      "Enter start of series:2\n",
      "Enter end of series:15\n",
      "Enter difference between two numbers3\n",
      "2\n",
      "5\n",
      "8\n",
      "11\n",
      "14\n"
     ]
    }
   ],
   "source": [
    "num=int(input(\"Enter number to generate series:\"))\n",
    "x = range(num)\n",
    "for n in x:\n",
    "  print(n)\n",
    "\n",
    "start=int(input(\"Enter start of series:\"))\n",
    "end=int(input(\"Enter end of series:\"))\n",
    "x = range(start, end)\n",
    "for n in x:\n",
    "  print(n)\n",
    "\n",
    "start=int(input(\"Enter start of series:\"))\n",
    "end=int(input(\"Enter end of series:\"))\n",
    "diff=int(input(\"Enter difference between two numbers\"))\n",
    "x = range(start, end, diff)\n",
    "for n in x:\n",
    "  print(n)"
   ]
  },
  {
   "cell_type": "markdown",
   "metadata": {},
   "source": [
    "# Question 3:\n",
    "Consider two numbers. Perform their subtraction and if the result of subtraction is greater than\n",
    "25, print their multiplication result else print their division result."
   ]
  },
  {
   "cell_type": "code",
   "execution_count": 4,
   "metadata": {},
   "outputs": [
    {
     "name": "stdout",
     "output_type": "stream",
     "text": [
      "enter 1st number:45\n",
      "enter 2nd number:78\n",
      "multiplication of 45 and 78 is: 3510\n"
     ]
    }
   ],
   "source": [
    "a=int(input(\"enter 1st number:\"))\n",
    "b=int(input(\"enter 2nd number:\"))\n",
    "if a>b:\n",
    "    subtraction=a-b\n",
    "    if subtraction>25:\n",
    "        print(\"multiplication of \"+str(a)+\" and \"+str(b)+\" is:\", a*b)\n",
    "    else:\n",
    "        print(\"division of \"+str(a)+\" and \"+str(b)+\" is:\", a/b)\n",
    "else:\n",
    "    subtraction=b-a\n",
    "    if subtraction>25:\n",
    "        print(\"multiplication of \"+str(a)+\" and \"+str(b)+\" is:\", a*b)\n",
    "    else:\n",
    "        print(\"division of \"+str(a)+\" and \"+str(b)+\" is:\", b/a)"
   ]
  },
  {
   "cell_type": "markdown",
   "metadata": {},
   "source": [
    "# Question 4:\n",
    "Consider a list of 10 elements of integer values. If the number in the list is divisible by 2, print the\n",
    "result as \"square of that number minus 2\"."
   ]
  },
  {
   "cell_type": "code",
   "execution_count": 6,
   "metadata": {},
   "outputs": [
    {
     "name": "stdout",
     "output_type": "stream",
     "text": [
      "result for number 8 is: 62\n",
      "result for number 6 is: 34\n",
      "result for number 4 is: 14\n",
      "result for number 12 is: 142\n",
      "result for number 16 is: 254\n",
      "result for number 20 is: 398\n"
     ]
    }
   ],
   "source": [
    "lst =[3,8,6,5,3,4,12,16,15,20]\n",
    "for n in lst:\n",
    "    if n%2==0:\n",
    "        print(\"result for number \"+str(n)+\" is:\", (n**2)-2)"
   ]
  },
  {
   "cell_type": "markdown",
   "metadata": {},
   "source": [
    "# Question 5:\n",
    "Consider a list of 10 elements. Print all the elements in the list which are greater than 7 when that\n",
    "number is divided 2."
   ]
  },
  {
   "cell_type": "code",
   "execution_count": 7,
   "metadata": {},
   "outputs": [
    {
     "name": "stdout",
     "output_type": "stream",
     "text": [
      "18\n",
      "16\n",
      "15\n",
      "20\n"
     ]
    }
   ],
   "source": [
    "lst =[3,18,6,5,3,4,12,16,15,20]\n",
    "for n in lst:\n",
    "    if (n/2)>7:\n",
    "        print(n)\n",
    "        "
   ]
  },
  {
   "cell_type": "code",
   "execution_count": null,
   "metadata": {},
   "outputs": [],
   "source": []
  }
 ],
 "metadata": {
  "kernelspec": {
   "display_name": "Python 3",
   "language": "python",
   "name": "python3"
  },
  "language_info": {
   "codemirror_mode": {
    "name": "ipython",
    "version": 3
   },
   "file_extension": ".py",
   "mimetype": "text/x-python",
   "name": "python",
   "nbconvert_exporter": "python",
   "pygments_lexer": "ipython3",
   "version": "3.7.6"
  }
 },
 "nbformat": 4,
 "nbformat_minor": 4
}
