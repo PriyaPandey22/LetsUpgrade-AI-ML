{
 "cells": [
  {
   "cell_type": "markdown",
   "metadata": {},
   "source": [
    "# Question 1:\n",
    "Assuming that we have some email addresses in the \"username@companyname.com\" format, please write program\n",
    "to print the company name of a given email address. Both user names and company names are composed of letters\n",
    "only.\n",
    "Input Format:\n",
    "The first line of the input contains an email address.\n",
    "Output Format:\n",
    "Print the company name in single line.\n",
    "Example;\n",
    "Input:\n",
    "john@google.com\n",
    "Output:\n",
    "google"
   ]
  },
  {
   "cell_type": "code",
   "execution_count": 10,
   "metadata": {},
   "outputs": [
    {
     "name": "stdout",
     "output_type": "stream",
     "text": [
      "enter email addresses in the username@companyname.com format priya@google.com\n",
      "Valid Email\n",
      "company name: google\n"
     ]
    }
   ],
   "source": [
    "import re  \n",
    "regex = '^[a-z0-9]+[\\._]?[a-z0-9]+[@]\\w+[.]\\w{2,3}$' \n",
    "def check(email):  \n",
    "    if(re.search(regex,email)):  \n",
    "        print(\"Valid Email\")\n",
    "        s1= email.split(\"@\")\n",
    "        s2= s1[1].split(\".\")\n",
    "        print(\"company name:\", s2[0])\n",
    "    else:  \n",
    "        print(\"Invalid Email\")\n",
    "\n",
    "email = input(\"enter email addresses in the username@companyname.com format \")\n",
    "check(email)\n"
   ]
  },
  {
   "cell_type": "markdown",
   "metadata": {},
   "source": [
    "# Question 2:\n",
    "Write a program that accepts a comma-separated sequence of words as input and prints the words in a comma\n",
    "separated sequence after sorting them alphabetically.\n",
    "Input Format:\n",
    "The first line of input contains words separated by the comma.\n",
    "Output Format:\n",
    "Print the sorted words separated by the comma.\n",
    "Example:\n",
    "Input:\n",
    "without,hello,bag,world\n",
    "Output:\n",
    "bag,hello,without,world"
   ]
  },
  {
   "cell_type": "code",
   "execution_count": 14,
   "metadata": {},
   "outputs": [
    {
     "name": "stdout",
     "output_type": "stream",
     "text": [
      "enter comma-separated sequence of words to sortsonali,akash,ameya,priya,neha,ankita,prerna,shan\n",
      "Sorted data are :akash,ameya,ankita,neha,prerna,priya,shan,sonali\n"
     ]
    }
   ],
   "source": [
    "sequence = input(\"enter comma-separated sequence of words to sort\")\n",
    "\n",
    "lst =[x for x in sequence.split(',')]\n",
    "lst.sort()\n",
    "print (\"Sorted data are :\"+','.join(lst))"
   ]
  },
  {
   "cell_type": "markdown",
   "metadata": {},
   "source": [
    "# Question 3:\n",
    "Create your own Jupyter Notebook for Sets"
   ]
  },
  {
   "cell_type": "code",
   "execution_count": 15,
   "metadata": {},
   "outputs": [
    {
     "name": "stdout",
     "output_type": "stream",
     "text": [
      "{'Akash', 'Sonali', 'Priya', 'Ameya'}\n"
     ]
    }
   ],
   "source": [
    "thisset = {\"Priya\", \"Akash\", \"Ameya\",\"Sonali\"}\n",
    "print(thisset)"
   ]
  },
  {
   "cell_type": "code",
   "execution_count": 16,
   "metadata": {},
   "outputs": [
    {
     "name": "stdout",
     "output_type": "stream",
     "text": [
      "Akash\n",
      "Sonali\n",
      "Priya\n",
      "Ameya\n"
     ]
    }
   ],
   "source": [
    "for x in thisset:\n",
    "  print(x)"
   ]
  },
  {
   "cell_type": "code",
   "execution_count": 17,
   "metadata": {},
   "outputs": [
    {
     "name": "stdout",
     "output_type": "stream",
     "text": [
      "True\n"
     ]
    }
   ],
   "source": [
    "print(\"Sonali\" in thisset)"
   ]
  },
  {
   "cell_type": "code",
   "execution_count": 18,
   "metadata": {},
   "outputs": [
    {
     "name": "stdout",
     "output_type": "stream",
     "text": [
      "{'Akash', 'Priya', 'Neha', 'Sonali', 'Ameya'}\n"
     ]
    }
   ],
   "source": [
    "thisset.add(\"Neha\")\n",
    "print(thisset)"
   ]
  },
  {
   "cell_type": "code",
   "execution_count": 19,
   "metadata": {},
   "outputs": [
    {
     "name": "stdout",
     "output_type": "stream",
     "text": [
      "{'Prerna', 'Ankita', 'Akash', 'Shan', 'Priya', 'Neha', 'Sonali', 'Ameya'}\n"
     ]
    }
   ],
   "source": [
    "thisset.update([\"Prerna\", \"Ankita\", \"Shan\"])\n",
    "print(thisset)"
   ]
  },
  {
   "cell_type": "code",
   "execution_count": 20,
   "metadata": {},
   "outputs": [
    {
     "name": "stdout",
     "output_type": "stream",
     "text": [
      "8\n"
     ]
    }
   ],
   "source": [
    "print(len(thisset))"
   ]
  },
  {
   "cell_type": "code",
   "execution_count": 21,
   "metadata": {},
   "outputs": [
    {
     "name": "stdout",
     "output_type": "stream",
     "text": [
      "{'Prerna', 'Ankita', 'Akash', 'Priya', 'Neha', 'Sonali', 'Ameya'}\n"
     ]
    }
   ],
   "source": [
    "thisset.remove(\"Shan\")\n",
    "print(thisset)"
   ]
  },
  {
   "cell_type": "code",
   "execution_count": 22,
   "metadata": {},
   "outputs": [
    {
     "name": "stdout",
     "output_type": "stream",
     "text": [
      "{'Prerna', 'Ankita', 'Priya', 'Neha', 'Sonali', 'Ameya'}\n"
     ]
    }
   ],
   "source": [
    "thisset.discard(\"Akash\")\n",
    "print(thisset)"
   ]
  },
  {
   "cell_type": "code",
   "execution_count": 23,
   "metadata": {},
   "outputs": [
    {
     "name": "stdout",
     "output_type": "stream",
     "text": [
      "Prerna\n",
      "{'Ankita', 'Priya', 'Neha', 'Sonali', 'Ameya'}\n"
     ]
    }
   ],
   "source": [
    "x = thisset.pop()\n",
    "print(x)\n",
    "print(thisset)"
   ]
  },
  {
   "cell_type": "code",
   "execution_count": 24,
   "metadata": {},
   "outputs": [
    {
     "name": "stdout",
     "output_type": "stream",
     "text": [
      "set()\n"
     ]
    }
   ],
   "source": [
    "thisset.clear()\n",
    "print(thisset)"
   ]
  },
  {
   "cell_type": "code",
   "execution_count": 27,
   "metadata": {},
   "outputs": [],
   "source": [
    "thisset1 = {\"Priya\", \"Akash\", \"Ameya\",\"Sonali\"}"
   ]
  },
  {
   "cell_type": "code",
   "execution_count": 28,
   "metadata": {},
   "outputs": [
    {
     "ename": "NameError",
     "evalue": "name 'thisset1' is not defined",
     "output_type": "error",
     "traceback": [
      "\u001b[1;31m---------------------------------------------------------------------------\u001b[0m",
      "\u001b[1;31mNameError\u001b[0m                                 Traceback (most recent call last)",
      "\u001b[1;32m<ipython-input-28-dd6d2feadc8a>\u001b[0m in \u001b[0;36m<module>\u001b[1;34m\u001b[0m\n\u001b[0;32m      1\u001b[0m \u001b[1;32mdel\u001b[0m \u001b[0mthisset1\u001b[0m\u001b[1;33m\u001b[0m\u001b[1;33m\u001b[0m\u001b[0m\n\u001b[1;32m----> 2\u001b[1;33m \u001b[0mprint\u001b[0m\u001b[1;33m(\u001b[0m\u001b[0mthisset1\u001b[0m\u001b[1;33m)\u001b[0m\u001b[1;33m\u001b[0m\u001b[1;33m\u001b[0m\u001b[0m\n\u001b[0m",
      "\u001b[1;31mNameError\u001b[0m: name 'thisset1' is not defined"
     ]
    }
   ],
   "source": [
    "del thisset1\n",
    "print(thisset1)"
   ]
  },
  {
   "cell_type": "markdown",
   "metadata": {},
   "source": [
    "# Question 4:\n",
    "Given a list of n-1 numbers ranging from 1 to n, your task is to find the missing number. There are no duplicates.\n",
    "Input Format:\n",
    "The first line contains n-1 numbers with each number separated by a space.\n",
    "Output Format:\n",
    "Print the missing number\n",
    "Example:\n",
    "Input:1 2 4 6 3 7 8\n",
    "Output:5"
   ]
  },
  {
   "cell_type": "code",
   "execution_count": 3,
   "metadata": {},
   "outputs": [
    {
     "name": "stdout",
     "output_type": "stream",
     "text": [
      "enter (n-1) numbers separated by space:1 2 4 6 8 9 11\n",
      "3\n",
      "5\n",
      "7\n",
      "10\n"
     ]
    }
   ],
   "source": [
    "lst= list(map(int,(input(\"enter (n-1) numbers separated by space:\")).split(\" \")))\n",
    "for x in range(1, max(lst)+1):\n",
    "    if x not in lst:\n",
    "        print(x)"
   ]
  },
  {
   "cell_type": "markdown",
   "metadata": {},
   "source": [
    "# Question 5:\n",
    "With a given list L, write a program to print this list L after removing all duplicate values with original order reserved.\n",
    "Example:\n",
    "If the input list is\n",
    "12 24 35 24 88 120 155 88 120 155\n",
    "Then the output should be\n",
    "12 24 35 88 120 155"
   ]
  },
  {
   "cell_type": "code",
   "execution_count": 32,
   "metadata": {},
   "outputs": [
    {
     "name": "stdout",
     "output_type": "stream",
     "text": [
      "Enter list of numbers to remove duplicates:12 24 35 24 88 120 155 88 120 155\n",
      "['12', '24', '35', '88', '120', '155']\n"
     ]
    }
   ],
   "source": [
    "def Remove(inputlist): \n",
    "    outputList = [] \n",
    "    for num in inputlist: \n",
    "        if num not in outputList: \n",
    "            outputList.append(num) \n",
    "    return outputList \n",
    "\n",
    "inputlist = list(input(\"Enter list of numbers to remove duplicates:\").split(\" \"))\n",
    "print(Remove(inputlist)) "
   ]
  },
  {
   "cell_type": "code",
   "execution_count": null,
   "metadata": {},
   "outputs": [],
   "source": []
  }
 ],
 "metadata": {
  "kernelspec": {
   "display_name": "Python 3",
   "language": "python",
   "name": "python3"
  },
  "language_info": {
   "codemirror_mode": {
    "name": "ipython",
    "version": 3
   },
   "file_extension": ".py",
   "mimetype": "text/x-python",
   "name": "python",
   "nbconvert_exporter": "python",
   "pygments_lexer": "ipython3",
   "version": "3.7.6"
  }
 },
 "nbformat": 4,
 "nbformat_minor": 4
}
